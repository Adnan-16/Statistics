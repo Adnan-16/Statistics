{
  "nbformat": 4,
  "nbformat_minor": 0,
  "metadata": {
    "colab": {
      "provenance": [],
      "toc_visible": true
    },
    "kernelspec": {
      "name": "python3",
      "display_name": "Python 3"
    },
    "language_info": {
      "name": "python"
    }
  },
  "cells": [
    {
      "cell_type": "markdown",
      "source": [
        "#1) What is the difference between descriptive statistics and inferential statistics ? Explain with examples.\n",
        " - Descriptive statistics deal with numbers to describe phenomena. They are used to describe, summarize the characteristics of a sample or dataset, such as variables mean, standard deviation or frequency, etc. Example of descriptive statistics are - reports of industry production, movie ratings, etc.\n",
        " - Inferential statistics is a decision, estimate, prediction or generalisation about a poupulation based on a sample. Here we deal with samples/samples and compares them and perform some tests to draw some conclusions on the the population data based on the observations from the sample. Example of inferential statistics are - average age of population of India, No. of tress in a national park.\n",
        "\n",
        "\n",
        "\n",
        "#2) What is sampling in statistics ? Explain the differences between random and stratified sampling.\n",
        " - Sampling in statistics is a practical way to study a population without having a examine every single element within it. Sampling involves carefully selecting a representativw subset of the popukations to ensure that the characteristics and attrivutes of the sample reflect those of the entire population as accurately as possible.\n",
        " - Random sampling : Every individual in the population has an equal chance of being selected. This helps minimize bias and increase the livelihood that the sample represents the population accurately.\n",
        " - Stratified statistics : The population is divided into distinct subgroups    (strata) based on certain characteristics and then a random sample is taken from each subgroup proportionate to its size. This ensures representation from various subgroups.\n",
        "\n",
        "\n",
        "\n",
        "\n",
        "#3) Define mean, median and mode. Explain why these measures of central tendency are important.\n",
        " - Mean : It is the arithmetic average; for calculating the mean add up all the values and divide by the number of observations in your dataset.\n",
        " - Median : It is the middle number. In statistics, the median represents the middle value in a set of numbers when they are arranged in order from smallest to largest.\n",
        " - Mode : It is the value that occurs the most frequently in dataset i.e. has highest frequency.\n",
        " - These measures of central tendency are important because it simplifies large data, enables comparision, supports decision making and adapts to data characteristics.\n",
        "\n",
        "\n",
        "\n",
        "\n",
        "#4) Explain skewness and kurtosis. What does a positive skew imply about the data ?\n",
        "- Skewness measures the asymmetry of a dataset's distribution. A distribution is symmetric if it looks the same on both sides of the mean. Skewness indicates whether data points are streched more to one side.\n",
        "- Kurtosis measures the \"tailedness\" of a distribution, including how mjch data is in the tails versus the center compared to a normal distribution.\n",
        "- A positive skew means the dataset has a longer or fatter right tail, with more values below the mean and a few large values. The mean is typically greater than median, which is greater than the mode.\n"
      ],
      "metadata": {
        "id": "dVroFb6kIjs6"
      }
    },
    {
      "cell_type": "code",
      "source": [
        "#5 Implement a python program to compute the mean, median and mode of a given list of numbers.\n",
        "\"\"\" numbers=[12,15,12,18,19,12,20,22,19,19,24,24,24,26,28]\"\"\"\n",
        "\n",
        "import numpy as np\n",
        "\n",
        "numbers=[12,15,12,18,19,12,20,22,19,19,24,24,24,26,28]\n",
        "a=np.mean(numbers)\n",
        "print(f\"mean:{a}\")\n",
        "sorted_num= sorted(numbers)\n",
        "b= np.median(sorted_num)\n",
        "print(f\"median: {b}\")\n",
        "\n",
        "from scipy import stats\n",
        "c=stats.mode(numbers)\n",
        "print(f\"mode: {c}\")"
      ],
      "metadata": {
        "colab": {
          "base_uri": "https://localhost:8080/"
        },
        "id": "Tlo42ERcVbMs",
        "outputId": "21af6818-db3c-4912-8af5-a9731a05ed0c"
      },
      "execution_count": null,
      "outputs": [
        {
          "output_type": "stream",
          "name": "stdout",
          "text": [
            "mean:19.6\n",
            "median: 19.0\n",
            "mode: ModeResult(mode=np.int64(12), count=np.int64(3))\n"
          ]
        }
      ]
    },
    {
      "cell_type": "code",
      "source": [
        "#6 Compute the covariance and correlation coefficient between the following two datasets provided as lists in python:\n",
        "\"\"\" list_x =[10,20,30,40,50]\n",
        "    list_y = [15,25,35,45,60]\"\"\"\n",
        "\n",
        "\n",
        "import numpy as np\n",
        "\n",
        "list_x= [10,20,30,40,50]\n",
        "list_y= [15,25,35,45,60]\n",
        "x=np.array(list_x)\n",
        "y=np.array(list_y)\n",
        "\n",
        "cov_matrix=np.cov(x,y,bias=False)\n",
        "covarience= cov_matrix[0][1]\n",
        "correlation= np.corrcoef(x,y)[0][1]\n",
        "\n",
        "print(\"covarience:\", covarience)\n",
        "print(\"correlation:\", correlation)"
      ],
      "metadata": {
        "colab": {
          "base_uri": "https://localhost:8080/"
        },
        "id": "0Q4axEcpZp5J",
        "outputId": "7d0fbb8a-ca26-4650-d75f-478adea7a3e4"
      },
      "execution_count": null,
      "outputs": [
        {
          "output_type": "stream",
          "name": "stdout",
          "text": [
            "covarience: 275.0\n",
            "correlation: 0.995893206467704\n"
          ]
        }
      ]
    },
    {
      "cell_type": "code",
      "source": [
        "#7 Write a Python script to draw a boxplot for the following numeric list and identify its outliers. Explain the result\n",
        "\"\"\" data=[12,14,14,15,18,19,19,21,22,22,23,23,24,26,29,35]\"\"\"\n",
        "\n",
        "import matplotlib.pyplot as plt\n",
        "import numpy as np\n",
        "\n",
        "data =[12,14,14,15,18,19,19,21,22,22,23,23,24,26,29,35]\n",
        "\n",
        "plt.boxplot(data)\n",
        "plt.title(\"boxplot\")\n",
        "plt.ylabel(\"values\")\n",
        "plt.show()\n",
        "\n",
        "q1=np.percentile(data,25)\n",
        "q3=np.percentile(data,75)\n",
        "iqr=q3-q1\n",
        "lower= q1-1.5*iqr\n",
        "upper=q3+1.5*iqr\n",
        "outliers= [x for x in data if x < lower or x > upper]\n",
        "\n",
        "print(f\"lower:{lower}\")\n",
        "print(f\"upper:{upper}\")\n",
        "print(f\"outliers: {outliers}\")"
      ],
      "metadata": {
        "id": "A1R8bCSCdG56",
        "colab": {
          "base_uri": "https://localhost:8080/",
          "height": 504
        },
        "outputId": "3ebb2401-617e-4949-9381-42f9c99f32f0"
      },
      "execution_count": null,
      "outputs": [
        {
          "output_type": "display_data",
          "data": {
            "text/plain": [
              "<Figure size 640x480 with 1 Axes>"
            ],
            "image/png": "[encoded data removed]"
          },
          "metadata": {}
        },
        {
          "output_type": "stream",
          "name": "stdout",
          "text": [
            "lower:8.25\n",
            "upper:32.25\n",
            "outliers: [35]\n"
          ]
        }
      ]
    },
    {
      "cell_type": "code",
      "source": [
        "#8 You are working as a data analyst in an e-commerce company. The marketing team wants to know if there is a relationship between advertising spend and daily sales.\n",
        "\"\"\" # Explain how you would use covarience and correlation to explore this relationship.\n",
        "    # Write a python code to compute the correlation between the two lists:\n",
        "    advertising_spend= [200,250,300,400,500]\n",
        "    daily_sales=[2200,2450,2750,3200,4000]\"\"\"\n",
        "\n",
        "import numpy as np\n",
        "\n",
        "advertising_spend=[200,250,300,400,500]\n",
        "daily_sales=[2200,2450,2750,3200,4000]\n",
        "\n",
        "x=np.array(advertising_spend)\n",
        "y=np.array(daily_sales)\n",
        "\n",
        "cov_matrix= np.cov(x,y,bias=False)\n",
        "covarience= cov_matrix[0][1]\n",
        "\n",
        "corr=np.corrcoef(x,y)[0][1]\n",
        "\n",
        "print(f\"covarience:{covarience}\")\n",
        "print(f\"corr:{corr}\")\n",
        "\n"
      ],
      "metadata": {
        "colab": {
          "base_uri": "https://localhost:8080/"
        },
        "id": "8InmQLzKyK0t",
        "outputId": "52bedee2-38d7-47e9-b54d-8e33d030bcf1"
      },
      "execution_count": null,
      "outputs": [
        {
          "output_type": "stream",
          "name": "stdout",
          "text": [
            "covarience:84875.0\n",
            "corr:0.9935824101653329\n"
          ]
        }
      ]
    },
    {
      "cell_type": "code",
      "source": [
        "#9 Your team has collected customer satisfaction survey data on a scale of 1-10 and wants to understand its distribution before lauching a new product.\n",
        "'''Explain which summary statistics and visualizations(e.g. mean, standard deviation, histogram) you'd use.\n",
        "   Write a python code to create a histogram using matplotlib for the survey data.\n",
        "   survey_scores = [7,8,5,9,6,7,8,9,10,4,7,6,9,8,7]'''\n",
        "\n",
        "\n",
        "import numpy as np\n",
        "import matplotlib.pyplot as plt\n",
        "\n",
        "survey_scores=[7,8,5,9,6,7,8,9,10,4,7,6,9,8,7]\n",
        "\n",
        "print(np.mean(survey_scores))\n",
        "print(np.median(survey_scores))\n",
        "print(np.std(survey_scores))\n",
        "\n",
        "plt.hist(survey_scores, color=\"blue\", edgecolor= \"black\" ,bins=7)\n",
        "plt.title(\"Histogram of customer statisfaction score\")\n",
        "plt.xlabel(\"survey score\")\n",
        "plt.xticks(range(1,11))\n",
        "plt.ylabel(\"frequency\")\n",
        "plt.show()"
      ],
      "metadata": {
        "colab": {
          "base_uri": "https://localhost:8080/",
          "height": 524
        },
        "id": "Jpr0VPNh3ytu",
        "outputId": "edacb2f4-fb9d-4738-92b2-1b29fddb99e0"
      },
      "execution_count": 9,
      "outputs": [
        {
          "output_type": "stream",
          "name": "stdout",
          "text": [
            "7.333333333333333\n",
            "7.0\n",
            "1.577621275493231\n"
          ]
        },
        {
          "output_type": "display_data",
          "data": {
            "text/plain": [
              "<Figure size 640x480 with 1 Axes>"
            ],
            "image/png": "[encoded data removed]"
          },
          "metadata": {}
        }
      ]
    }
  ]
}