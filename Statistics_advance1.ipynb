{
  "nbformat": 4,
  "nbformat_minor": 0,
  "metadata": {
    "colab": {
      "provenance": []
    },
    "kernelspec": {
      "name": "python3",
      "display_name": "Python 3"
    },
    "language_info": {
      "name": "python"
    }
  },
  "cells": [
    {
      "cell_type": "markdown",
      "source": [
        "#1) What is a random variable in probablity theory ?\n",
        "  - In probablity, a real-valued function, defined over the sample space of a random experiment, is called a random variable. Random variables could be either discrete or continuous.\n",
        "\n",
        "\n",
        "\n",
        "#2) What are the types of random variables ?\n",
        "  - Random variables are two types:-\n",
        "   - Discrete Random variable : A random variable that takes on a countable number of distinct values, often associated with counts or categories.\n",
        "   - Continuous Random variable : A random variable that can take any value within a continuous range, often associated with measurements.\n",
        "\n",
        "\n",
        "\n",
        "\n",
        "#3) Explain the difference between discrete and continuous distributions.\n",
        "  - Discrete distribution represents data with countable values and uses probablity mass functions(PMF) while a continuous distribution represents data with uncountable values over a range and uses probablity density functions ( PDF ).\n",
        "\n",
        "\n",
        "\n",
        "#4) What is a binomial distribution, and how is it used in probablity ?\n",
        "  - The binomial distribution is a discrete probablity distribution that models the number of successes in a fixed number of independent trials, where each trial has two possible outcomes ( success or failure ) and a constant probablity of success. It is used to calculate probablities in scenarios involving repeated, independent trials with two outcomes. It helps quantify the likelihood of a specific number of successes and is widely applied in fiels like quality control, medicine and social sciences.\n",
        "\n",
        "\n",
        "\n",
        "\n",
        "#5) What is the standard normal distribution, why is it important ?\n",
        "  - The standard normal distribution is special case of the normal distribution with a mean of 0 and standard deviation of 1.\n",
        "  It is important because it helps simplify statistical analysis, allows for probablity calculations using z-scores, supports hypothesis testing and is essential in the Central Limit Theorem, making it a foundation of many statistical methods.\n",
        "\n",
        "\n",
        "#6) What is the Central Limit Theorem ( CLT ) and why is it critical in statistics ?\n",
        " - It states that if have population with a mean and standard deviation and take sufficiently large no. of random samples from population with replacement, then the distribution of sample means will be approximately normally distributed. It is critical in statistics as it allow us to use normal distribution to make inferences about sample means, even when the original data is not normally distributed.\n",
        "\n",
        "\n",
        "\n",
        "#7) What is the significance of confidence intervals in statistics analysis ?\n",
        " - The significance of confidence intervals in statistics analysis as they provide a range of likely values for a population parameter and show the precision and uncertainity of estimates, helping in decision-making and hypothesis testing.\n",
        "\n",
        "\n",
        "\n",
        "#8) What is the concept of expected value in a probablity distribution ?\n",
        "   - The expected value is a measure of the central tendency of a probablity distribution. It represents the long-term average value that a random variable would take on if the experiment were repeated many times."
      ],
      "metadata": {
        "id": "2TO3E7Yxu_cX"
      }
    },
    {
      "cell_type": "code",
      "source": [
        "#9) Write a Python program to generate 1000 random numbers from a normal distribution with mean=50 and standard deviation =5. Compute its mean and standard deviation using NumPy and draw a histogram to visualize the distribution.\n",
        "\n",
        "import numpy as np\n",
        "import matplotlib.pyplot as plt\n",
        "\n",
        "mean=50\n",
        "std =5\n",
        "data= np.random.normal(loc=mean, scale=std,size=1000)\n",
        "sample_mean = np.mean(data)\n",
        "sample_std=np.std(data)\n",
        "print(f\"mean of sample:{sample_mean}\")\n",
        "print(f\"std of sample:{sample_std}\")\n",
        "\n",
        "plt.hist(data, bins=30, density=True, alpha=0.7, color='blue')\n",
        "plt.title('histogram of normal distribution')\n",
        "plt.xlabel('value')\n",
        "plt.ylabel('density')\n",
        "plt.grid(True)\n",
        "plt.show()"
      ],
      "metadata": {
        "colab": {
          "base_uri": "https://localhost:8080/",
          "height": 507
        },
        "id": "K8KI8opaDg_V",
        "outputId": "1902dd06-bd43-43fb-ebb6-5580025e378c"
      },
      "execution_count": null,
      "outputs": [
        {
          "output_type": "stream",
          "name": "stdout",
          "text": [
            "mean of sample:49.84468511088386\n",
            "std of sample:5.146931404890822\n"
          ]
        },
        {
          "output_type": "display_data",
          "data": {
            "text/plain": [
              "<Figure size 640x480 with 1 Axes>"
            ],
            "image/png": "[encoded data removed]"
          },
          "metadata": {}
        }
      ]
    },
    {
      "cell_type": "code",
      "source": [
        "#10) You are working as a data analyst for a retail company. The company has collected daily sales data for 2 years and wants to identify the overall sales trend.\n",
        "\"\"\" daily_sales = [220,245,210,265,230,250,260,275,240,255,235,260,245,250,225,270,265,255,250,260]\n",
        "    - Explain how you would apply the central limit theorem to estimate the average sales with a 95% confidence interval.\n",
        "    - Write a python code to compute the mean sales and its confidence interval.\"\"\"\n",
        "\n",
        "\n",
        "import numpy as np\n",
        "import scipy.stats as stats\n",
        "\n",
        "daily_sales = [220,245,210,265,230,250,260,275,240,255,235,260,245,250,225,270,265,255,250,260]\n",
        "\n",
        "mean_sales= np.mean(daily_sales)\n",
        "std_sales= np.std(daily_sales, ddof=1)\n",
        "n=len(daily_sales)\n",
        "standard_error=std_sales / np.sqrt(n)\n",
        "\n",
        "z_value= 1.96\n",
        "\n",
        "margin_of_error = z_value * standard_error\n",
        "\n",
        "lower_bound = mean_sales - margin_of_error\n",
        "upper_bound = mean_sales + margin_of_error\n",
        "\n",
        "print(f\"sample means:{mean_sales}\")\n",
        "print(f\"95% confidence interval:({lower_bound},{upper_bound})\")\n",
        "\n",
        "\n"
      ],
      "metadata": {
        "id": "rEFcK84fHROH",
        "colab": {
          "base_uri": "https://localhost:8080/"
        },
        "outputId": "a7b54e91-d012-4574-8d40-12124f64837a"
      },
      "execution_count": 10,
      "outputs": [
        {
          "output_type": "stream",
          "name": "stdout",
          "text": [
            "sample means:248.25\n",
            "95% confidence interval:(240.68312934041109,255.81687065958891)\n"
          ]
        }
      ]
    }
  ]
}